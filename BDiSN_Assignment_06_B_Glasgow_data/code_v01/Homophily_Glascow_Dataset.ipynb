{
 "cells": [
  {
   "cell_type": "markdown",
   "metadata": {},
   "source": [
    "# Assignment 6 - part B\n",
    "## Behavior Dynamics in Social Networks - 2017\n",
    "\n",
    "Read carefully the instructions, and run command by command making the changes asked along the notebook. \n",
    "\n",
    "---\n",
    "\n",
    "**Step 0:** The line below imports all the libraries needed to run this code. If your library does not run, you can install it at the Anaconda interface, clicking in 'Environments'."
   ]
  },
  {
   "cell_type": "code",
   "execution_count": null,
   "metadata": {
    "collapsed": false
   },
   "outputs": [],
   "source": [
    "%matplotlib inline\n",
    "import pandas as pd\n",
    "import numpy as np\n",
    "import matplotlib.pyplot as plt\n",
    "import networkx as nx"
   ]
  },
  {
   "cell_type": "markdown",
   "metadata": {},
   "source": [
    "## 1. Initial values for smoking behavior\n",
    "\n",
    "**Step 1:** Take the data with the information about smoke behavior. The file is saved at the folder 'raw_data', and we want to make the first column (index_col=[0] the index of the frame we are creating.\n",
    "\n",
    "a. Reads the csv file and considers the column 0 as the index for the table.\n",
    "\n",
    "b. Replace all values that are 1 for 0.1 (inplace means that the changes are done automatically)\n",
    "\n",
    "c. Replace all values that are 2 for 0.5\n",
    "\n",
    "d. Replace all values that are 3 for 0.9\n",
    "\n",
    "e. Show the head of the table (5 first rows)\n"
   ]
  },
  {
   "cell_type": "code",
   "execution_count": null,
   "metadata": {
    "collapsed": false
   },
   "outputs": [],
   "source": [
    "tobacco = pd.read_csv('data/tobacco.csv', index_col=[0])\n",
    "tobacco.replace(1,0.1,inplace=True)\n",
    "tobacco.replace(2,0.5,inplace=True)\n",
    "tobacco.replace(3,0.9,inplace=True)\n",
    "tobacco.head(5)"
   ]
  },
  {
   "cell_type": "markdown",
   "metadata": {},
   "source": [
    "We convert the table's type to float. This change of the data type to float32 is needed to make it readable for gephi later.\n",
    "\n",
    "**As you can see in the command below for the participant s048, we have some missing data (known as NaN in python). This is caused because the student wasn't present for the first questionaire, or maybe because the answer provided was invalid.**"
   ]
  },
  {
   "cell_type": "code",
   "execution_count": null,
   "metadata": {
    "collapsed": false
   },
   "outputs": [],
   "source": [
    "tobacco = tobacco.astype(float)\n",
    "tobacco.loc['s048']"
   ]
  },
  {
   "cell_type": "markdown",
   "metadata": {},
   "source": [
    "To treat the NaNs we are going to make a list of all the nodes with NaN values. We make it for the three columns t1, t2 and t3."
   ]
  },
  {
   "cell_type": "code",
   "execution_count": null,
   "metadata": {
    "collapsed": false
   },
   "outputs": [],
   "source": [
    "# Get the list of nodes with nan values for tobacco\n",
    "list_nans = list(tobacco[pd.isnull(tobacco['t1'])].index.values)\n",
    "list_nans = list_nans + list(tobacco[pd.isnull(tobacco['t2'])].index.values)\n",
    "list_nans = list_nans + list(tobacco[pd.isnull(tobacco['t3'])].index.values)"
   ]
  },
  {
   "cell_type": "markdown",
   "metadata": {},
   "source": [
    "Now we are going to drop the nodes with missing data for the **first time point** only. As we need the initial values, we cannot have a node with this missing data.\n",
    "\n",
    "Note: we are also creating a dictionary with the initial values for each node. The command *status_dict['s002']* shows the initial state for the node s002. The next command is to verify if the type of the variable is float."
   ]
  },
  {
   "cell_type": "code",
   "execution_count": null,
   "metadata": {
    "collapsed": false
   },
   "outputs": [],
   "source": [
    "status = tobacco.dropna()['t1']\n",
    "status_temp = status.to_dict()\n",
    "status_dict = {}\n",
    "for key,value in status_temp.items():\n",
    "    status_dict[key] = value"
   ]
  },
  {
   "cell_type": "code",
   "execution_count": null,
   "metadata": {
    "collapsed": false
   },
   "outputs": [],
   "source": [
    "type(status_dict['s002'])"
   ]
  },
  {
   "cell_type": "markdown",
   "metadata": {},
   "source": [
    "## 2. Loading the networks\n",
    "\n",
    "* After starting the nodes and getting the initial value for the tobacco behavior, we need to generate the graph with the connections. \n",
    "* The first step is to read the raw data with the friendship levels and convert them to our model's format, normalizing it.\n",
    "\n",
    "The file with the network is in the *friendship.1.csv* at the raw_data folder."
   ]
  },
  {
   "cell_type": "code",
   "execution_count": null,
   "metadata": {
    "collapsed": false
   },
   "outputs": [],
   "source": [
    "friendship1 = pd.read_csv('data/friendship.1.csv', index_col=[0])\n",
    "friendship1.head()"
   ]
  },
  {
   "cell_type": "markdown",
   "metadata": {},
   "source": [
    "**Now we need to adjust the values (normalize) between 0 and 1. So for that, we will replace values 1 (best friend) for 0.9, 2 (friend) for 0.5, and so on.**"
   ]
  },
  {
   "cell_type": "code",
   "execution_count": null,
   "metadata": {
    "collapsed": false
   },
   "outputs": [],
   "source": [
    "friendship1.replace(1, 0.9, inplace=True)\n",
    "friendship1.replace(2, 0.5, inplace=True)\n",
    "friendship1.replace(0, 0.1, inplace=True)\n",
    "friendship1.replace(10, 0, inplace=True)\n",
    "friendship1.head()"
   ]
  },
  {
   "cell_type": "code",
   "execution_count": null,
   "metadata": {
    "collapsed": false
   },
   "outputs": [],
   "source": [
    "print friendship1.loc['s001']['s002']\n",
    "type(friendship1.loc['s001']['s002'])"
   ]
  },
  {
   "cell_type": "markdown",
   "metadata": {},
   "source": [
    "### Cleaning up the list of nans\n",
    "\n",
    "We need to clean up the nodes that were removed before, without the first data point in the questionnaire. So for that we use the previously created vector *list_nans*."
   ]
  },
  {
   "cell_type": "code",
   "execution_count": null,
   "metadata": {
    "collapsed": false
   },
   "outputs": [],
   "source": [
    "network = friendship1.drop(list_nans).drop(list_nans, axis=1)"
   ]
  },
  {
   "cell_type": "markdown",
   "metadata": {},
   "source": [
    "We will also make NaN values in the matrix become 0, as we don't know the relationship for these cells.\n",
    "\n",
    "If you wanna see the network, uncomment the second row of the next box."
   ]
  },
  {
   "cell_type": "code",
   "execution_count": null,
   "metadata": {
    "collapsed": false
   },
   "outputs": [],
   "source": [
    "network = network.fillna(0)\n",
    "#network"
   ]
  },
  {
   "cell_type": "markdown",
   "metadata": {},
   "source": [
    "To see the size of our network, we run the following command. You should have a squared matrix of dimension 129. That means that we have 129 nodes left at the network after removing the nans."
   ]
  },
  {
   "cell_type": "code",
   "execution_count": null,
   "metadata": {
    "collapsed": false
   },
   "outputs": [],
   "source": [
    "network.shape"
   ]
  },
  {
   "cell_type": "markdown",
   "metadata": {},
   "source": [
    "### Creating the network for gephi\n",
    "\n",
    "Now comes the best part! It is time to create the network. As you know, a graph is made of nodes and edges. This representation facilitates our understanding of how the network looks like. This also helps us to analyse the network using the tools that Gephi provides."
   ]
  },
  {
   "cell_type": "markdown",
   "metadata": {
    "collapsed": true
   },
   "source": [
    "**We need to read the network data frame with the connections and make some adjustments.**\n",
    "\n",
    "1. Convert the values on the network to float32 (Gephi does not accept float64).\n",
    "2. Fill the diagonal with 0, as we do not have this information from the questionnaire.\n",
    "3. We transposed the matrix network_ because the origin and target of the edges is inverted for our purposes\n",
    "\n",
    "If you wanna see the result, uncomment the third row of the following box."
   ]
  },
  {
   "cell_type": "code",
   "execution_count": null,
   "metadata": {
    "collapsed": false
   },
   "outputs": [],
   "source": [
    "network_ = network.values\n",
    "np.fill_diagonal(network_, 0)\n",
    "g = nx.from_numpy_matrix(network_.T, create_using=nx.MultiDiGraph())\n",
    "type(network_[0][0])"
   ]
  },
  {
   "cell_type": "markdown",
   "metadata": {
    "collapsed": true
   },
   "source": [
    "**Time to initiate the values for the nodes. We will create an attribute for each node called activityTimeLine. This attribute contains the value of the opinion of the node per time step. So at the end of the simulation, this is where we are gonna find this information.**"
   ]
  },
  {
   "cell_type": "code",
   "execution_count": null,
   "metadata": {
    "collapsed": false
   },
   "outputs": [],
   "source": [
    "# Save the old values for checking\n",
    "old_labels = list(g.nodes())\n",
    "dict_attributes = dict(zip(old_labels, old_labels))\n",
    "\n",
    "dictlist = [dict() for x in range(len(old_labels))]\n",
    "dictActivityTimeLine = dict(zip(old_labels, dictlist))\n",
    "nx.set_node_attributes(g, dict_attributes, 'old_id')\n",
    "nx.set_node_attributes(g, dictActivityTimeLine, 'activityTimeLine')"
   ]
  },
  {
   "cell_type": "code",
   "execution_count": null,
   "metadata": {
    "collapsed": false
   },
   "outputs": [],
   "source": [
    "dict_attributes"
   ]
  },
  {
   "cell_type": "markdown",
   "metadata": {},
   "source": [
    "Our graph is called g in this code. You can see the list of nodes (you have to uncomment) and the attributes of a node as show below."
   ]
  },
  {
   "cell_type": "code",
   "execution_count": null,
   "metadata": {
    "collapsed": false
   },
   "outputs": [],
   "source": [
    "#g.nodes()\n",
    "g.node[4]"
   ]
  },
  {
   "cell_type": "markdown",
   "metadata": {},
   "source": [
    "As the numbers are not so intuitive, we will change the names of the nodes according to the data set provided."
   ]
  },
  {
   "cell_type": "code",
   "execution_count": null,
   "metadata": {
    "collapsed": false
   },
   "outputs": [],
   "source": [
    "relabel_dict = dict(zip(old_labels, network.columns.values))\n",
    "g = nx.relabel_nodes(g, relabel_dict)"
   ]
  },
  {
   "cell_type": "markdown",
   "metadata": {},
   "source": [
    "So now, if you try to see node 4, it does not exist anymore, because its name was changed."
   ]
  },
  {
   "cell_type": "code",
   "execution_count": null,
   "metadata": {
    "collapsed": false
   },
   "outputs": [],
   "source": [
    "# Should yield an error\n",
    "g.node[4]"
   ]
  },
  {
   "cell_type": "code",
   "execution_count": null,
   "metadata": {
    "collapsed": false
   },
   "outputs": [],
   "source": [
    "print 'List of nodes: \\n', g.nodes()\n",
    "print '\\nInformation of node s005: ', g.node['s005']"
   ]
  },
  {
   "cell_type": "markdown",
   "metadata": {},
   "source": [
    "### Initiate the states!\n",
    "Now we are going to put the initial state for each node as an attribute called *'state'*. Notice that the activityTimeLine created before will receive its first value, for time 0. "
   ]
  },
  {
   "cell_type": "code",
   "execution_count": null,
   "metadata": {
    "collapsed": false
   },
   "outputs": [],
   "source": [
    "nx.set_node_attributes(g, status_dict, 'state')"
   ]
  },
  {
   "cell_type": "code",
   "execution_count": null,
   "metadata": {
    "collapsed": false
   },
   "outputs": [],
   "source": [
    "for node in g.nodes():\n",
    "    state_node = float(g.node[node]['state'])\n",
    "    g.node[node]['activityTimeLine'].update({0:state_node})"
   ]
  },
  {
   "cell_type": "markdown",
   "metadata": {},
   "source": [
    "You can check what is the initial state for node s003 below!"
   ]
  },
  {
   "cell_type": "code",
   "execution_count": null,
   "metadata": {
    "collapsed": false
   },
   "outputs": [],
   "source": [
    "print g.node['s003']\n",
    "print type(g.node['s003']['state'])"
   ]
  },
  {
   "cell_type": "markdown",
   "metadata": {},
   "source": [
    "#### Edges\n",
    "\n",
    "**As the nodes are ready to fly, we have to set up the edges also. Remember that our goal in this assignment is to also see the changes in the edges according to the homophily principle.**\n",
    "\n",
    "So for that we will get the weights from the table provided and transformed, and we will create an attribute for each edge called 'weightTimeLine'. This attribute will contain information about the value of the weight of each edge over time."
   ]
  },
  {
   "cell_type": "code",
   "execution_count": null,
   "metadata": {
    "collapsed": false
   },
   "outputs": [],
   "source": [
    "for source, target in g.edges():\n",
    "    g[source][target][0].update(weightTimeLine={0:g.get_edge_data(source,target)[0]['weight']})"
   ]
  },
  {
   "cell_type": "markdown",
   "metadata": {},
   "source": [
    "**To see the attributes of an edge, call the function get_edge_data with the source and targe as parameters.**"
   ]
  },
  {
   "cell_type": "code",
   "execution_count": null,
   "metadata": {
    "collapsed": false
   },
   "outputs": [],
   "source": [
    "print g.get_edge_data('s006','s002')\n",
    "print type(g.get_edge_data('s006','s002')[0]['weightTimeLine'][0])"
   ]
  },
  {
   "cell_type": "markdown",
   "metadata": {},
   "source": [
    "### STEP 2: Set up\n",
    "\n",
    "Setting up the initial values for time, number of agents"
   ]
  },
  {
   "cell_type": "code",
   "execution_count": null,
   "metadata": {
    "collapsed": true
   },
   "outputs": [],
   "source": [
    "time = 10\n",
    "delta = 0.3\n",
    "speed_factor = 0.6"
   ]
  },
  {
   "cell_type": "markdown",
   "metadata": {
    "collapsed": false
   },
   "source": [
    "## Updating the values of edges and states over time\n",
    "\n",
    "The next imports and boxes are the running of the code for updating the values. Observe that this running is based on the temporal-causal model for the states and in the homophily principle, that can be moduled in many different ways."
   ]
  },
  {
   "cell_type": "code",
   "execution_count": null,
   "metadata": {
    "collapsed": true
   },
   "outputs": [],
   "source": [
    "import edges_update as eu\n",
    "import states_update as su"
   ]
  },
  {
   "cell_type": "markdown",
   "metadata": {},
   "source": [
    "**The following box is to reload the codes for the functions of edges_update and states_update. Uncomment it if you need to make any change at this files and run the functions again.**"
   ]
  },
  {
   "cell_type": "code",
   "execution_count": null,
   "metadata": {
    "collapsed": false
   },
   "outputs": [],
   "source": [
    "#reload(eu)\n",
    "#reload(su)"
   ]
  },
  {
   "cell_type": "markdown",
   "metadata": {},
   "source": [
    "The functions for edges_update and states_update receive some parameters that are important to understand.\n",
    "\n",
    "### edges_update\n",
    "\n",
    "* **function:** this is the function that will rule the change on the states. The function slhom (simple linear homophily) needs the amplification factor as input. \n",
    "* **speed_factor:** is defined above. \n",
    "* **thres_h:** this is the threshold for the homophily calculation.\n",
    "* **delta:** is the delta t used to change the time scale for your simulation\n",
    "* **amplification:** factor used at the simple linear homophily model, as shown in classroom\n",
    "\n",
    "### states_update\n",
    "\n",
    "* **combination_function:** the function that will rule the changes at the states. Here you receive the 'adnorsum' combination function. This function does not need any additional parameter.\n",
    "* **speed_factor:** same above.\n",
    "* **delta:** same above."
   ]
  },
  {
   "cell_type": "code",
   "execution_count": null,
   "metadata": {
    "collapsed": false
   },
   "outputs": [],
   "source": [
    "g_old = g.copy()\n",
    "nx.write_gexf(g, 'initial_graph.gexf')\n",
    "\n",
    "for t in range(1,time):\n",
    "    g_temp = eu.edges_update(g_old, t, function='slhom', speed_factor=speed_factor, thres_h=0.2, \n",
    "                             amplification=10, delta=delta)\n",
    "    g_new = su.states_update(g_temp, t, combination_function='adnorsum', speed_factor=speed_factor, \n",
    "                             delta=delta)\n",
    "    g_old = g_new.copy()\n",
    "    \n",
    "nx.write_gexf(g_new, 'final_graph.gexf')\n"
   ]
  },
  {
   "cell_type": "code",
   "execution_count": null,
   "metadata": {
    "collapsed": false
   },
   "outputs": [],
   "source": [
    "g_new.get_edge_data('s070', 's071')"
   ]
  },
  {
   "cell_type": "code",
   "execution_count": null,
   "metadata": {
    "collapsed": false,
    "scrolled": false
   },
   "outputs": [],
   "source": [
    "plt.figure(figsize=(20,10))\n",
    "for node in g_new.nodes():\n",
    "    state_tuples = g_new.node[node]['activityTimeLine'].items()\n",
    "    plt.plot(*zip(*state_tuples))\n",
    "    #plt.show()"
   ]
  },
  {
   "cell_type": "code",
   "execution_count": null,
   "metadata": {
    "collapsed": false
   },
   "outputs": [],
   "source": [
    "plt.figure(figsize=(20,10))\n",
    "for edge in g_new.edges():\n",
    "    source, target = edge\n",
    "    state_tuples = g_new[source][target][0]['weightTimeLine'].items()# node[node]['activityTimeLine'].items()\n",
    "    plt.plot(*zip(*state_tuples))\n",
    "    #plt.show()"
   ]
  },
  {
   "cell_type": "code",
   "execution_count": null,
   "metadata": {
    "collapsed": true
   },
   "outputs": [],
   "source": []
  }
 ],
 "metadata": {
  "anaconda-cloud": {},
  "kernelspec": {
   "display_name": "Python [Root]",
   "language": "python",
   "name": "Python [Root]"
  },
  "language_info": {
   "codemirror_mode": {
    "name": "ipython",
    "version": 2
   },
   "file_extension": ".py",
   "mimetype": "text/x-python",
   "name": "python",
   "nbconvert_exporter": "python",
   "pygments_lexer": "ipython2",
   "version": "2.7.12"
  }
 },
 "nbformat": 4,
 "nbformat_minor": 0
}
